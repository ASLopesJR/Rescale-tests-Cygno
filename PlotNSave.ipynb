{
 "cells": [
  {
   "cell_type": "code",
   "execution_count": 1,
   "id": "8dce5738",
   "metadata": {},
   "outputs": [],
   "source": [
    "import matplotlib\n",
    "import random\n",
    "import numpy as np\n",
    "import seaborn as sns\n",
    "import matplotlib.pyplot as plt\n",
    "from matplotlib.ticker import AutoMinorLocator\n",
    "from pathlib import Path\n"
   ]
  },
  {
   "cell_type": "code",
   "execution_count": 2,
   "id": "6683b751",
   "metadata": {},
   "outputs": [],
   "source": [
    "path = Path(r'./reconstruction/moved_means')\n",
    "for entry in path.iterdir():\n",
    "\n",
    "    fig, ax = plt.subplots(figsize=(14, 11))\n",
    "\n",
    "    meanfr = np.loadtxt('./reconstruction/moved_means/'+entry.name)\n",
    "    idx = range(0,meanfr.shape[1]) if meanfr.shape[1]<36 else random.sample(range(0,meanfr.shape[1]),36)\n",
    "    \n",
    "    sns.histplot(meanfr[:,idx], stat=\"probability\")\n",
    "\n",
    "    plt.title(\"Histogram of run \" + entry.name)\n",
    "\n",
    "    ax = plt.gca()\n",
    "    ax.tick_params(axis='both', labelcolor='k', labelsize=\"x-large\")\n",
    "    ax.set_xlabel(\"Energy \", horizontalalignment='right', x=1.0)\n",
    "    ax.set_ylabel(\"Probability\", horizontalalignment='right', y=1.0)\n",
    "    ax.grid(axis='both', color='gray', linestyle=':', alpha=0.5)\n",
    "    ax.tick_params(axis='both', labelcolor='k', labelsize=\"large\")\n",
    "    ax.xaxis.set_minor_locator(AutoMinorLocator())\n",
    "    ax.tick_params(which='major', direction=\"in\", length=10, width=1)\n",
    "    ax.tick_params(which='minor', direction=\"in\", length=5, width=1)\n",
    "    ax.get_legend().set_visible(False)\n",
    "\n",
    "    plt.yscale('log')\n",
    "\n",
    "    plt.savefig('./plots/' + entry.name + '.png', dpi=150)\n",
    "    plt.close()"
   ]
  },
  {
   "cell_type": "markdown",
   "id": "74414957",
   "metadata": {},
   "source": [
    "x = 10\n",
    "x<1 ?? print(x);"
   ]
  }
 ],
 "metadata": {
  "kernelspec": {
   "display_name": "Python 3 (ipykernel)",
   "language": "python",
   "name": "python3"
  },
  "language_info": {
   "codemirror_mode": {
    "name": "ipython",
    "version": 3
   },
   "file_extension": ".py",
   "mimetype": "text/x-python",
   "name": "python",
   "nbconvert_exporter": "python",
   "pygments_lexer": "ipython3",
   "version": "3.10.2"
  }
 },
 "nbformat": 4,
 "nbformat_minor": 5
}
